{
  "nbformat": 4,
  "nbformat_minor": 0,
  "metadata": {
    "colab": {
      "provenance": [],
      "authorship_tag": "ABX9TyNLrT/ZQB6fib7g3SJiWzRK",
      "include_colab_link": true
    },
    "kernelspec": {
      "name": "python3",
      "display_name": "Python 3"
    },
    "language_info": {
      "name": "python"
    }
  },
  "cells": [
    {
      "cell_type": "markdown",
      "metadata": {
        "id": "view-in-github",
        "colab_type": "text"
      },
      "source": [
        "<a href=\"https://colab.research.google.com/github/Augusta02/gomycode/blob/main/Python_data_structures.ipynb\" target=\"_parent\"><img src=\"https://colab.research.google.com/assets/colab-badge.svg\" alt=\"Open In Colab\"/></a>"
      ]
    },
    {
      "cell_type": "code",
      "execution_count": null,
      "metadata": {
        "colab": {
          "base_uri": "https://localhost:8080/"
        },
        "id": "krEWtwEDiPGV",
        "outputId": "e0f22827-d940-4d66-ab6a-632040bf11ca"
      },
      "outputs": [
        {
          "output_type": "stream",
          "name": "stdout",
          "text": [
            "24\n",
            "36\n"
          ]
        }
      ],
      "source": [
        "# Write a Python program that multiplies all the items in a list.\n",
        "\n",
        "# Sample list= [2, 3, 6]\n",
        "\n",
        "# Result = 36\n",
        "\n",
        "def multiply_list(mylist):\n",
        "  result = 1\n",
        "  for x in mylist:\n",
        "    result = result * x\n",
        "  return result\n",
        "print(multiply_list([2,3,4]))\n",
        "\n",
        "list1= [2,3,6]\n",
        "print(multiply_list(list1))"
      ]
    },
    {
      "cell_type": "code",
      "source": [
        "# Write a Python program to get a list, sorted in increasing order by the last element in each tuple, from a given list of non-empty tuples.\n",
        "# Sample List : [(2, 5), (1, 2), (4, 4), (2, 3), (2, 1)]\n",
        "# Expected result : [(2, 1), (1, 2), (2, 3), (4, 4), (2, 5)]\n",
        "# Hint: You can use the sort function.\n",
        "\n",
        "def samplelist(n):\n",
        "  return n[-1]\n",
        "\n",
        "def sort_list(tuples):\n",
        "  return sorted(tuples, key=samplelist)\n",
        "\n",
        "print(sort_list([(2, 5), (1, 2), (4, 4), (2, 3), (2, 1)]))\n"
      ],
      "metadata": {
        "colab": {
          "base_uri": "https://localhost:8080/"
        },
        "id": "cjEAuMMRpngH",
        "outputId": "1cdfde2f-e272-4bf7-b9be-09ca2a893661"
      },
      "execution_count": null,
      "outputs": [
        {
          "output_type": "stream",
          "name": "stdout",
          "text": [
            "[(2, 1), (1, 2), (2, 3), (4, 4), (2, 5)]\n"
          ]
        }
      ]
    },
    {
      "cell_type": "code",
      "source": [
        "# Write a Python program that combines two dictionaries by adding values for common keys.\n",
        "# d1 = {'a': 100, 'b': 200, 'c':300}\n",
        "# d2 = {'a': 300, 'b': 200, 'd':400}\n",
        "# Expected result: {'a': 400, 'b': 400, 'd': 400, 'c': 300}\n",
        "# The Counter function from the Collections module can be directly applied to merge the two dictionaries which preserves the keys.\n",
        "# And in turn adds the values at the matching keys.\n",
        "\n",
        "from collections import Counter\n",
        "d1 = {'a': 100, 'b': 200, 'c':300}\n",
        "d2 = {'a': 300, 'b': 200, 'd':400}\n",
        "\n",
        "\n",
        "result = Counter(d1) + Counter(d2)\n",
        "print(result)"
      ],
      "metadata": {
        "colab": {
          "base_uri": "https://localhost:8080/"
        },
        "id": "weyvZJxY1eEb",
        "outputId": "1407d97d-e5b5-4c6f-b8c9-f05090a65197"
      },
      "execution_count": null,
      "outputs": [
        {
          "output_type": "stream",
          "name": "stdout",
          "text": [
            "Counter({'a': 400, 'b': 400, 'd': 400, 'c': 300})\n"
          ]
        }
      ]
    },
    {
      "cell_type": "code",
      "source": [
        "# With a given integral number n, write a program to generate a dictionary that contains \n",
        "# (i, i*i) so that is an integral number between 1 and n (both included). \n",
        "# Then the program should print the dictionary. \n",
        "# Suppose the following input is supplied to the program: 8. \n",
        "# Then, the output should be: {1: 1, 2: 4, 3: 9, 4: 16, 5: 25, 6: 36, 7: 49, 8: 64}\n",
        "\n",
        "number = int(input('Enter number: '))\n",
        "\n",
        "square = {i: i*i for i in range(1, number+1)}\n",
        "\n",
        "print(square)"
      ],
      "metadata": {
        "colab": {
          "base_uri": "https://localhost:8080/"
        },
        "id": "Ym0aIWC2KpYo",
        "outputId": "e849a075-e501-4c1b-847a-54b7fc500927"
      },
      "execution_count": null,
      "outputs": [
        {
          "output_type": "stream",
          "name": "stdout",
          "text": [
            "Enter number: 8\n",
            "{1: 1, 2: 4, 3: 9, 4: 16, 5: 25, 6: 36, 7: 49, 8: 64}\n"
          ]
        }
      ]
    },
    {
      "cell_type": "code",
      "source": [
        "\n",
        "# Write a program to sort a tuple by its float element.\n",
        "# For example: list= [('item1', '12.20'), ('item2', '15.10'), ('item3', '24.5')]\n",
        "# Expected result: [('item3', '24.5'), ('item2', '15.10'), ('item1', '12.20')]\n",
        "\n",
        "def sort_tuple(tup):\n",
        "  return sorted(tup, key= lambda x: float(x[-1]), reverse=True)\n",
        "print(sort_tuple([('item1', '12.20'), ('item2', '15.10'), ('item3', '24.5')]))"
      ],
      "metadata": {
        "colab": {
          "base_uri": "https://localhost:8080/"
        },
        "id": "MEgikEhEQjiE",
        "outputId": "8fbbe938-ff0b-4bbe-ca44-63c4513b6ff9"
      },
      "execution_count": null,
      "outputs": [
        {
          "output_type": "stream",
          "name": "stdout",
          "text": [
            "[('item3', '24.5'), ('item2', '15.10'), ('item1', '12.20')]\n"
          ]
        }
      ]
    }
  ]
}