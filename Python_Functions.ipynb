{
  "nbformat": 4,
  "nbformat_minor": 0,
  "metadata": {
    "colab": {
      "provenance": [],
      "collapsed_sections": [],
      "authorship_tag": "ABX9TyPES0nyiyjSmgKol5jbvyIG",
      "include_colab_link": true
    },
    "kernelspec": {
      "name": "python3",
      "display_name": "Python 3"
    },
    "language_info": {
      "name": "python"
    }
  },
  "cells": [
    {
      "cell_type": "markdown",
      "metadata": {
        "id": "view-in-github",
        "colab_type": "text"
      },
      "source": [
        "<a href=\"https://colab.research.google.com/github/Augusta02/gomycode/blob/main/Python_Functions.ipynb\" target=\"_parent\"><img src=\"https://colab.research.google.com/assets/colab-badge.svg\" alt=\"Open In Colab\"/></a>"
      ]
    },
    {
      "cell_type": "code",
      "execution_count": null,
      "metadata": {
        "colab": {
          "base_uri": "https://localhost:8080/"
        },
        "id": "hVjuubNDfApS",
        "outputId": "0932f330-cc5b-4c3d-aa23-b9fa1867a6f2"
      },
      "outputs": [
        {
          "output_type": "stream",
          "name": "stdout",
          "text": [
            "35\n",
            "50\n"
          ]
        }
      ],
      "source": [
        "# Write a Python function to find the largest (max) of three numbers.\n",
        "# For example, the max of these three numbers (20, 35, 19) is 35.\n",
        "\n",
        "def max_num(x,y,z):\n",
        "  if x > y and x > z:\n",
        "    return x\n",
        "  elif y > x and y > z:\n",
        "    return y\n",
        "  else:\n",
        "    return z\n",
        "print(max_num(20,35,19))\n",
        "print(max_num(42,17,50))"
      ]
    },
    {
      "cell_type": "code",
      "source": [
        "# Write a function calculation() so it can accept two variables and calculate the addition and subtraction of them. It must return both addition and subtraction in a single return call.\n",
        "# For example:\n",
        "# calculation(40, 10) should produce 50, 30\n",
        "\n",
        "def calculator(x,y):\n",
        "  add = x + y\n",
        "  sub = x - y\n",
        "  return (add, sub)\n",
        "print(calculator(10,6))\n",
        "print(calculator(40,10))\n"
      ],
      "metadata": {
        "colab": {
          "base_uri": "https://localhost:8080/"
        },
        "id": "3eZnbUobf_nn",
        "outputId": "80b919a4-bb06-41bd-f266-0b59d8020170"
      },
      "execution_count": null,
      "outputs": [
        {
          "output_type": "stream",
          "name": "stdout",
          "text": [
            "(16, 4)\n",
            "(50, 30)\n"
          ]
        }
      ]
    },
    {
      "cell_type": "markdown",
      "source": [
        "Write a function that sums the elements of a list of integers. \n",
        "Write a function that multiplies the elements of an integer list.\n",
        "Use the two functions to sum the elements whose position is an even number (0,2,4…) and multiply the rest. \n",
        "\n",
        "Hint: Consider extracting two lists from a first list.\n",
        "\n",
        "\n",
        "\n",
        " "
      ],
      "metadata": {
        "id": "vZ0ZIMUm1tqX"
      }
    },
    {
      "cell_type": "code",
      "source": [
        "number = [1,2,3,4,5,6,7,8,9,10,11]\n",
        "even_list = []\n",
        "even = list(filter(lambda x: x%2==0, number)) \n",
        "print(even)\n",
        "odd = list(filter(lambda x: x%2!=0, number))\n",
        "print(odd)\n",
        "\n",
        "def sum_list(even):\n",
        "  result = sum(even)\n",
        "  return result\n",
        "print(sum_list(even))\n",
        "\n",
        "def multiply_list(odd):\n",
        "  total = 1\n",
        "  for i in odd:\n",
        "    total = total * i\n",
        "  return total\n",
        "print(multiply_list(odd))"
      ],
      "metadata": {
        "colab": {
          "base_uri": "https://localhost:8080/"
        },
        "id": "8CzCHS86m5dl",
        "outputId": "6958c92c-7350-4e31-e059-a3af28b68a27"
      },
      "execution_count": 25,
      "outputs": [
        {
          "output_type": "stream",
          "name": "stdout",
          "text": [
            "[2, 4, 6, 8, 10]\n",
            "[1, 3, 5, 7, 9, 11]\n",
            "30\n",
            "10395\n"
          ]
        }
      ]
    },
    {
      "cell_type": "code",
      "source": [
        "# Write a Python program that accepts a hyphen-separated sequence of words as input and prints the words in a hyphen-separated sequence after sorting them alphabetically.\n",
        "# Sample items: green-red-yellow-black-white\n",
        "# Expected result: black-green-red-white-yellow\n",
        "# Hint: There's a split function to separate your input string into words and a sort function to sort.\n",
        "\n",
        "words = str(input(\"Enter words: \"))\n",
        "\n",
        "def new_word(words):\n",
        "  result = words.split(\"-\")\n",
        "  result.sort()\n",
        "  split_word= '-'.join(result)\n",
        "  return split_word\n",
        "print(new_word(words))"
      ],
      "metadata": {
        "colab": {
          "base_uri": "https://localhost:8080/"
        },
        "id": "ci0JpHRSsJQv",
        "outputId": "3845e265-0569-45e8-df6b-d3e0fc289126"
      },
      "execution_count": 31,
      "outputs": [
        {
          "output_type": "stream",
          "name": "stdout",
          "text": [
            "Enter words: yellow-red-orange-black-violet\n",
            "black-orange-red-violet-yellow\n"
          ]
        }
      ]
    },
    {
      "cell_type": "code",
      "source": [
        "# Write a function that calculates and prints the value according to the given formula: Q = square root of [(2 * C * D)/H].\n",
        "#  Following are the fixed values of C and H: C is 50, and H is 30.\n",
        "#  D is the variable whose values should be input to your program in a comma-separated sequence.\n",
        "#  Example: Let us assume the following comma-separated input sequence is given to the function: 100,150,180. \n",
        "# Expected result: 18,22,24 \n",
        "# Hints: If the output received is in decimal form, it should be rounded off to its nearest value. For example, if the output received is 26.0, it should be printed as 26. In the case of input data being supplied to the question, it should be assumed to be a console input. \n",
        "\n",
        "import math\n",
        "d = str(input(\"Enter values: \"))\n",
        "ds= d.split(',')\n",
        "# lambda d: \n",
        "# print(ds)\n",
        "result = []\n",
        "\n",
        "def cal(ds):\n",
        "  for i in range(len(ds)):\n",
        "    c= 50\n",
        "    h=30\n",
        "    Q = round(math.sqrt(2*c*int(ds[i])/h))\n",
        "    result.append(Q)\n",
        "  return result\n",
        "print(cal(ds)) \n"
      ],
      "metadata": {
        "colab": {
          "base_uri": "https://localhost:8080/"
        },
        "id": "CCttN2F_vn1S",
        "outputId": "9b472710-a8d4-4229-c18c-ee9e9b29862b"
      },
      "execution_count": 19,
      "outputs": [
        {
          "output_type": "stream",
          "name": "stdout",
          "text": [
            "Enter values: 100,150,180\n",
            "[18, 22, 24]\n"
          ]
        }
      ]
    }
  ]
}