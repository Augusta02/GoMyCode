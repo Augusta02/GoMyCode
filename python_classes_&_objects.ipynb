{
  "nbformat": 4,
  "nbformat_minor": 0,
  "metadata": {
    "colab": {
      "provenance": [],
      "authorship_tag": "ABX9TyMGDwW+QvvYoYr0Lt8Z9Pvj",
      "include_colab_link": true
    },
    "kernelspec": {
      "name": "python3",
      "display_name": "Python 3"
    },
    "language_info": {
      "name": "python"
    }
  },
  "cells": [
    {
      "cell_type": "markdown",
      "metadata": {
        "id": "view-in-github",
        "colab_type": "text"
      },
      "source": [
        "<a href=\"https://colab.research.google.com/github/Augusta02/python_educational_content/blob/main/python_classes_%26_objects.ipynb\" target=\"_parent\"><img src=\"https://colab.research.google.com/assets/colab-badge.svg\" alt=\"Open In Colab\"/></a>"
      ]
    },
    {
      "cell_type": "code",
      "execution_count": 7,
      "metadata": {
        "colab": {
          "base_uri": "https://localhost:8080/"
        },
        "id": "etO9U5dSPKND",
        "outputId": "b8a972cf-4b05-4d7a-b42d-b81d7603b1be"
      },
      "outputs": [
        {
          "output_type": "stream",
          "name": "stdout",
          "text": [
            "Coding in Python\n",
            "Augusta\n",
            "4\n",
            "<class '__main__.GmcClass'>\n"
          ]
        }
      ],
      "source": [
        "# Create an object\n",
        "# We can create an object by calling the class\n",
        "\n",
        "\n",
        "class GmcClass:\n",
        "  def __init__(self,name,tutor,num_of_student):\n",
        "    self.name = name\n",
        "    self.tutor = tutor\n",
        "    self.num_of_student= num_of_student\n",
        "\n",
        "\n",
        "\n",
        "p = GmcClass('Coding in Python', 'Augusta', 4)\n",
        "\n",
        "print(p.name)\n",
        "print(p.tutor)\n",
        "print(p.num_of_student)\n",
        "print(GmcClass)"
      ]
    },
    {
      "cell_type": "code",
      "source": [
        "# Write a Python class named Point3D defined by x, y, and z. Define a method that returns (x, y ,z).\n",
        "#  This tells Python to represent this object in the following format: (x, y, z). \n",
        "# Then create a variable named my_point containing a new instance of Point3D with x=1, y=2, and z=3 and print it.\n",
        "\n",
        "class Point3D:\n",
        "  def __init__(self,num1='x',num2='y',num3='z'):\n",
        "    self.num1= num1\n",
        "    self.num2= num2\n",
        "    self.num3= num3\n",
        "\n",
        "  def num_info(self):\n",
        "    return f'({self.num1},{self.num2},{self.num3})'\n",
        "\n",
        "q = Point3D()\n",
        "q1= Point3D(1, 2, 3)\n",
        "print(q1.num_info())\n",
        "print(q.num_info())"
      ],
      "metadata": {
        "colab": {
          "base_uri": "https://localhost:8080/"
        },
        "id": "h8PTN-ssQ_bd",
        "outputId": "a7e14f32-5776-4617-8958-17f35c099418"
      },
      "execution_count": 13,
      "outputs": [
        {
          "output_type": "stream",
          "name": "stdout",
          "text": [
            "(1,2,3)\n",
            "(x,y,z)\n"
          ]
        }
      ]
    },
    {
      "cell_type": "code",
      "source": [
        "\n",
        "\n",
        "# Write a Python class named Rectangle constructed by a length and width.\n",
        "# Define two methods, area and perimeter, which will compute the area and the perimeter of the rectangle.\n",
        "# Then create a variable named my_rectangle containing a new instance of Rectangle with width=3 and length = 4\n",
        "# and compute both area and perimeter ( the area is expected to be 3*4=12 and perimeter 2*(3+4)=14).\n",
        "\n",
        "class Rectangle:\n",
        "  def __init__(self, length, width):\n",
        "    self.length= length\n",
        "    self.width= width\n",
        "\n",
        "  def area_rectangle(self):\n",
        "    area = self.length * self.width\n",
        "    return area\n",
        "\n",
        "  def perimeter_rectangle(self):\n",
        "    perimeter = 2 * (self.length + self.width)\n",
        "    return perimeter\n",
        "\n",
        "z = Rectangle(2,3)\n",
        "z1 = Rectangle(3,4)\n",
        "print(z.area_rectangle())\n",
        "print(z.perimeter_rectangle())\n",
        "print(z1.area_rectangle())\n",
        "print(z1.perimeter_rectangle())"
      ],
      "metadata": {
        "colab": {
          "base_uri": "https://localhost:8080/"
        },
        "id": "3b04_ClZZvD9",
        "outputId": "3cdff477-ddb5-4566-aa5f-6b1e738d00b3"
      },
      "execution_count": 23,
      "outputs": [
        {
          "output_type": "stream",
          "name": "stdout",
          "text": [
            "6\n",
            "10\n",
            "12\n",
            "14\n"
          ]
        }
      ]
    },
    {
      "cell_type": "code",
      "source": [
        "class Person:\n",
        "      def __init__(self, firstname='Asabeneh', lastname='Yetayeh', age=250, country='Finland', city='Helsinki'):\n",
        "          self.firstname = firstname\n",
        "          self.lastname = lastname\n",
        "          self.age = age\n",
        "          self.country = country\n",
        "          self.city = city\n",
        "          self.skills = []\n",
        "\n",
        "      def person_info(self):\n",
        "        return f'{self.firstname} {self.lastname} is {self.age} years old. He lives in {self.city}, {self.country}.'\n",
        "      def add_skill(self, skill):\n",
        "          self.skills.append(skill)\n",
        "\n",
        "p1 = Person()\n",
        "print(p1.person_info())\n",
        "p1.add_skill('HTML')\n",
        "p1.add_skill('CSS')\n",
        "p1.add_skill('JavaScript')\n",
        "p2 = Person('John', 'Doe', 30, 'Nomanland', 'Noman city')\n",
        "print(p2.person_info())\n",
        "print(p1.skills)\n",
        "print(p2.skills)"
      ],
      "metadata": {
        "colab": {
          "base_uri": "https://localhost:8080/"
        },
        "id": "7sG6p98niDap",
        "outputId": "4cf33685-3a8d-4bd4-b1be-aee2db2e253b"
      },
      "execution_count": 26,
      "outputs": [
        {
          "output_type": "stream",
          "name": "stdout",
          "text": [
            "Asabeneh Yetayeh is 250 years old. He lives in Helsinki, Finland.\n",
            "John Doe is 30 years old. He lives in Noman city, Nomanland.\n",
            "['HTML', 'CSS', 'JavaScript']\n",
            "[]\n"
          ]
        }
      ]
    },
    {
      "cell_type": "code",
      "source": [
        "#  Write a Python  class named Circle constrcted by its center O and radius r.\n",
        "#  Define two methods, area and perimeter, which will compute the area and the perimeter of the circle,\n",
        "#  and is Inside() method which allows you to test whether a point A(x, y) belongs to the circle C(O, r) or notfrom\n",
        "from math import pi \n",
        "class Circle:\n",
        "  def __init__(self, a, b, radius):\n",
        "    self.a= a\n",
        "    self.b = b\n",
        "    self.radius= radius\n",
        "  \n",
        "  def area_circle(self):\n",
        "    area = round(pi * (self.radius ** 2))\n",
        "    return area\n",
        "\n",
        "  def perimeter(self):\n",
        "    perimeter = round(2 * pi * self.radius)\n",
        "    return perimeter\n",
        "\n",
        "  def circle_equation(self, x, y):\n",
        "    equation = (x-self.a)** 2 + (y-self.b)** 2 - self.radius ** 2\n",
        "    return equation\n",
        "\n",
        "  # test if a given point is belongs to a circle or not\n",
        "  def inside(self,x,y):\n",
        "    if (self.circle_equation (x,y) == 0):\n",
        "      print(f'the point: {x},{y} belongs to the circle C')\n",
        "    else:\n",
        "      print(f'the point: {x},{y} does not belong to the circle C')\n",
        "  \n",
        "\n",
        "C= Circle(2,3,2)\n",
        "print(C.area_circle())\n",
        "print(C.perimeter())\n",
        "\n",
        "print(C.inside(2,3))\n",
        "\n",
        "\n",
        "\n"
      ],
      "metadata": {
        "colab": {
          "base_uri": "https://localhost:8080/"
        },
        "id": "lYnVfh_SPgJw",
        "outputId": "1fd909ad-3ffa-4e58-81f4-0615843e52a5"
      },
      "execution_count": 8,
      "outputs": [
        {
          "output_type": "stream",
          "name": "stdout",
          "text": [
            "13\n",
            "13\n",
            "the point: 2,3 does not belong to the circle C\n",
            "None\n"
          ]
        }
      ]
    },
    {
      "cell_type": "code",
      "source": [
        "#  Suppose we want to model a bank account with support for deposit and withdraw operations.\n",
        "#  Let’s create a Python class named Bank defined by its balance. \n",
        "#  Define two methods, deposit and withdraw, to compute the new amount of each operation.\n",
        "\n",
        "\n",
        "class Account:\n",
        "  def __init__(self, name, account_number, initial_amount):\n",
        "    self.name = name\n",
        "    self.number = account_number\n",
        "    self.balance = initial_amount\n",
        "\n",
        "  def deposit(self,amount):\n",
        "    new_balance = self.balance + amount\n",
        "    return new_balance\n",
        "\n",
        "  def withdraw(self,amount):\n",
        "    balance = self.balance - amount\n",
        "    return balance\n",
        "\n",
        "a = Account('Augusta', 1000167, 1500)\n",
        "print(a.deposit(2000))\n",
        "print(a.withdraw(200))\n",
        "\n",
        "\n"
      ],
      "metadata": {
        "colab": {
          "base_uri": "https://localhost:8080/"
        },
        "id": "b2yz6HHtVaIv",
        "outputId": "b76facf5-80a1-41b8-d0d6-6c73ac8e9bd2"
      },
      "execution_count": 9,
      "outputs": [
        {
          "output_type": "stream",
          "name": "stdout",
          "text": [
            "3500\n",
            "1300\n"
          ]
        }
      ]
    }
  ]
}